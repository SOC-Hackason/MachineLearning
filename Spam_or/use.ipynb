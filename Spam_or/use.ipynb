{
 "cells": [
  {
   "cell_type": "code",
   "execution_count": 7,
   "metadata": {},
   "outputs": [],
   "source": [
    "import numpy as np\n",
    "import torch \n",
    "from transformers import BertTokenizer, BertModel\n",
    "import torch.nn as nn\n",
    "\n",
    "class TopicClassifier(nn.Module):\n",
    "    def __init__(self, input_dim, hidden_dim, output_dim):\n",
    "        super(TopicClassifier, self).__init__()\n",
    "        self.fc1 = nn.Linear(input_dim, hidden_dim)\n",
    "        self.relu = nn.ReLU()\n",
    "        self.fc2 = nn.Linear(hidden_dim, output_dim)\n",
    "        \n",
    "    def forward(self, x):\n",
    "        x = self.fc1(x)\n",
    "        x = self.relu(x)\n",
    "        x = self.fc2(x)\n",
    "        return x\n",
    "    \n",
    "device = torch.device(\"cuda\" if torch.cuda.is_available() else \"cpu\")\n",
    "\n",
    "\n",
    "class TopicClassifierCombined:\n",
    "    def __init__(self):\n",
    "        self.tokenizer = BertTokenizer.from_pretrained('bert-base-multilingual-cased')\n",
    "        self.model = BertModel.from_pretrained('bert-base-multilingual-cased').to(device)\n",
    "        # load from topic_classifier.pth saved as state_dict\n",
    "        self.classifier = TopicClassifier(input_dim=768, output_dim=2, hidden_dim=16).to(device)\n",
    "        self.classifier.load_state_dict(torch.load(\"topic_classifier2.pth\"))\n",
    "        \n",
    "        \n",
    "    def predict(self, text):\n",
    "        with torch.no_grad():\n",
    "            inputs = self.tokenizer(text, return_tensors='pt', padding=True, truncation=True).to(device)\n",
    "            outputs = self.model(**inputs)\n",
    "            last_hidden_states = outputs.last_hidden_state[:, 0, :]\n",
    "            logits = self.classifier(last_hidden_states)\n",
    "            probs = torch.nn.functional.softmax(logits, dim=-1)\n",
    "            return probs.cpu().numpy()\n",
    "\n",
    "classifier = TopicClassifierCombined()\n",
    "\n",
    "\n",
    "labels = [\"ham\", \"spam\"]\n",
    "\n",
    "\n",
    "\n",
    "\n",
    "\n"
   ]
  },
  {
   "cell_type": "code",
   "execution_count": 9,
   "metadata": {},
   "outputs": [
    {
     "name": "stdout",
     "output_type": "stream",
     "text": [
      "[[0.9638811  0.03611889]]\n",
      "Predicted label: ham\n"
     ]
    }
   ],
   "source": [
    "your_article = \"\"\"\n",
    "Spam Spam Spam\n",
    "\"\"\"\n",
    "probs = classifier.predict(your_article)\n",
    "print(probs)\n",
    "index = np.argmax(probs)\n",
    "print(f\"Predicted label: {labels[index]}\")\n",
    "\n"
   ]
  },
  {
   "cell_type": "code",
   "execution_count": 10,
   "metadata": {},
   "outputs": [],
   "source": [
    "# save the object\n",
    "import pickle\n",
    "\n",
    "with open(\"topic_classifier.pkl\", \"wb\") as f:\n",
    "    pickle.dump(classifier, f)"
   ]
  }
 ],
 "metadata": {
  "kernelspec": {
   "display_name": "nlp_venv",
   "language": "python",
   "name": "python3"
  },
  "language_info": {
   "codemirror_mode": {
    "name": "ipython",
    "version": 3
   },
   "file_extension": ".py",
   "mimetype": "text/x-python",
   "name": "python",
   "nbconvert_exporter": "python",
   "pygments_lexer": "ipython3",
   "version": "3.12.0"
  }
 },
 "nbformat": 4,
 "nbformat_minor": 2
}
