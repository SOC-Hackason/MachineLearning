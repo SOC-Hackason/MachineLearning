{
 "cells": [
  {
   "cell_type": "code",
   "execution_count": 1,
   "metadata": {},
   "outputs": [
    {
     "name": "stderr",
     "output_type": "stream",
     "text": [
      "c:\\Users\\reolo\\2024assig\\Mail\\MachineLearning\\nlp\\Lib\\site-packages\\sklearn\\base.py:376: InconsistentVersionWarning: Trying to unpickle estimator LogisticRegression from version 0.24.2 when using version 1.5.1. This might lead to breaking code or invalid results. Use at your own risk. For more info please refer to:\n",
      "https://scikit-learn.org/stable/model_persistence.html#security-maintainability-limitations\n",
      "  warnings.warn(\n",
      "c:\\Users\\reolo\\2024assig\\Mail\\MachineLearning\\nlp\\Lib\\site-packages\\sklearn\\base.py:376: InconsistentVersionWarning: Trying to unpickle estimator StandardScaler from version 0.24.2 when using version 1.5.1. This might lead to breaking code or invalid results. Use at your own risk. For more info please refer to:\n",
      "https://scikit-learn.org/stable/model_persistence.html#security-maintainability-limitations\n",
      "  warnings.warn(\n"
     ]
    }
   ],
   "source": [
    "import mail_classification \n",
    "from classdefine import *\n",
    "# 新しいメッセージ\n",
    "\n",
    "model,scaler = mail_classification.load_model(\"model.pickle\",\"scaler.pickle\")\n",
    "\n",
    "#カテゴリごとの確率分布を取得\n",
    "TOPIC =  [\"Appointment\", \"Promotion\", \"School\", \"Work\"]\n",
    "\n",
    "\n",
    "import pickle\n",
    "\n",
    "# load the model \n",
    "model_spam = pickle.load(open('./topic_classifier.pkl', 'rb'))\n",
    "\n"
   ]
  },
  {
   "cell_type": "code",
   "execution_count": 10,
   "metadata": {},
   "outputs": [],
   "source": [
    "new_message = \"\"\"\n",
    "＼おやつ＆おもちゃ特典付！／\n",
    "7～8月 わんちゃんグッズ特典プレゼントクーポン\n",
    "\n",
    "現在実施中の「わんちゃんグッズ特典プレゼントクーポン」を、7～8月も実施することが決定しました！\n",
    "1,820円(税込)相当のおやつ、おもちゃの特典を売店でお渡ししますので、わんちゃんとのご滞在がより楽しく♪\n",
    "\n",
    "わんちゃん専用ホテル「湯快わんわんリゾート」、わんちゃん専用客室「プラスわん」で、わんちゃんとの家族旅行をお楽しみください！\n",
    "\"\"\""
   ]
  },
  {
   "cell_type": "code",
   "execution_count": 12,
   "metadata": {},
   "outputs": [
    {
     "name": "stdout",
     "output_type": "stream",
     "text": [
      "0.41982368\n",
      "0.41982367634773254\n",
      "importance of Appointment: 0.0014970034108497375\n",
      "importance of Promotion: 0.35074576789536543\n",
      "importance of School: 0.06748641415780661\n",
      "importance of Work: 9.449088371077205e-05\n"
     ]
    }
   ],
   "source": [
    "predicted_proba = mail_classification.classify_mail(new_message,model,scaler) \n",
    "prob = model_spam.predict(new_message)\n",
    "# [ ham, spam]\n",
    "ham_prob = prob[0][0]\n",
    "\n",
    "print(ham_prob)\n",
    "importance_by_topic =  predicted_proba * ham_prob\n",
    "vector_by_topic = np.array([1] * 4)\n",
    "\n",
    "print(sum(importance_by_topic * vector_by_topic))\n",
    "\n",
    "for k, v in zip(TOPIC, importance_by_topic):\n",
    "    print(f'importance of {k}: {v}')"
   ]
  },
  {
   "cell_type": "code",
   "execution_count": null,
   "metadata": {},
   "outputs": [],
   "source": []
  }
 ],
 "metadata": {
  "kernelspec": {
   "display_name": "nlp",
   "language": "python",
   "name": "python3"
  },
  "language_info": {
   "codemirror_mode": {
    "name": "ipython",
    "version": 3
   },
   "file_extension": ".py",
   "mimetype": "text/x-python",
   "name": "python",
   "nbconvert_exporter": "python",
   "pygments_lexer": "ipython3",
   "version": "3.12.0"
  }
 },
 "nbformat": 4,
 "nbformat_minor": 2
}
